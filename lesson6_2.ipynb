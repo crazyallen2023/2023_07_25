{
 "cells": [
  {
   "cell_type": "code",
   "execution_count": 19,
   "metadata": {},
   "outputs": [
    {
     "name": "stdout",
     "output_type": "stream",
     "text": [
      "7\n",
      "9\n",
      "7\n",
      "5\n",
      "7\n",
      "5\n",
      "9\n",
      "7\n",
      "5\n",
      "9\n"
     ]
    }
   ],
   "source": [
    "import random\n",
    "for i in range(1,11):\n",
    "    print(random.randint(5,10))\n"
   ]
  },
  {
   "cell_type": "code",
   "execution_count": 25,
   "metadata": {},
   "outputs": [
    {
     "name": "stdout",
     "output_type": "stream",
     "text": [
      "4\n",
      "6\n",
      "5\n",
      "1\n",
      "6\n",
      "6\n",
      "7\n",
      "0\n",
      "9\n",
      "3\n"
     ]
    }
   ],
   "source": [
    "import random\n",
    "for i in range(1,11):\n",
    "    print(random.randrange(10))"
   ]
  },
  {
   "cell_type": "code",
   "execution_count": 26,
   "metadata": {},
   "outputs": [
    {
     "name": "stdout",
     "output_type": "stream",
     "text": [
      "2\n",
      "3\n",
      "7\n",
      "4\n",
      "5\n",
      "6\n",
      "8\n",
      "2\n",
      "6\n",
      "9\n"
     ]
    }
   ],
   "source": [
    "import random\n",
    "for i in range(1,11):\n",
    "    print(random.randrange(0,10))"
   ]
  },
  {
   "cell_type": "code",
   "execution_count": 39,
   "metadata": {},
   "outputs": [
    {
     "name": "stdout",
     "output_type": "stream",
     "text": [
      "=====Guess Number Game==========\n",
      "Entered value not in range\n",
      "Bingo\n",
      "You've guessed 2 times\n"
     ]
    }
   ],
   "source": [
    "import random\n",
    "min = 1\n",
    "max = 10\n",
    "num = 0\n",
    "target = random.randint(min, max)\n",
    "\n",
    "print(\"=====Guess Number Game==========\")\n",
    "\n",
    "while True:\n",
    "    guess = int(input(f\"Enter a guess number between {min}~{max}\"))\n",
    "    num += 1\n",
    "    if guess >= min and guess <= max:\n",
    "        if guess == target:\n",
    "                print(\"Bingo!!!!\")\n",
    "                print(f\"You've guessed {num} times\")\n",
    "                break\n",
    "        elif guess > target:\n",
    "                print(\"Smaller\")\n",
    "                \n",
    "        else:\n",
    "                print(\"Bigger\")\n",
    "               \n",
    "    else:\n",
    "            print(\"Entered value not in range\")"
   ]
  }
 ],
 "metadata": {
  "kernelspec": {
   "display_name": "Python 3",
   "language": "python",
   "name": "python3"
  },
  "language_info": {
   "codemirror_mode": {
    "name": "ipython",
    "version": 3
   },
   "file_extension": ".py",
   "mimetype": "text/x-python",
   "name": "python",
   "nbconvert_exporter": "python",
   "pygments_lexer": "ipython3",
   "version": "3.10.12"
  },
  "orig_nbformat": 4
 },
 "nbformat": 4,
 "nbformat_minor": 2
}
