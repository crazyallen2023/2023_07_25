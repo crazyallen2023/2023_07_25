{
 "cells": [
  {
   "cell_type": "code",
   "execution_count": 13,
   "metadata": {},
   "outputs": [
    {
     "name": "stdout",
     "output_type": "stream",
     "text": [
      "['沈心利', '鄧亭聿', '李慶亮', '李立偉', '劉昀天']\n"
     ]
    },
    {
     "data": {
      "text/plain": [
       "[['沈心利', 66, 50, 97, 82, 65],\n",
       " ['鄧亭聿', 60, 95, 95, 91, 66],\n",
       " ['李慶亮', 68, 62, 100, 65, 100],\n",
       " ['李立偉', 65, 67, 85, 82, 82],\n",
       " ['劉昀天', 77, 65, 82, 95, 79]]"
      ]
     },
     "execution_count": 13,
     "metadata": {},
     "output_type": "execute_result"
    }
   ],
   "source": [
    "import random\n",
    "\n",
    "def get_score()->list:\n",
    "    score = []\n",
    "    for i in range(5):\n",
    "        score.append(random.randint(50,100))\n",
    "    return score\n",
    "\n",
    "nums_int = int(input(\"輸入學生人數：\"))\n",
    "with open('names.txt', encoding='utf-8', newline='') as file:\n",
    "    names_str = file.read()\n",
    "    names_list = names_str.split(sep='\\n')\n",
    "    final_list = random.choices(names_list, k=nums_int)\n",
    "    print(final_list)\n",
    "student = []\n",
    "for i in range(nums_int):\n",
    "    score = get_score()\n",
    "    new_list = [final_list[i]] + score\n",
    "    student.append(new_list)\n",
    "    \n",
    "\n",
    "student"
   ]
  }
 ],
 "metadata": {
  "kernelspec": {
   "display_name": "Python 3",
   "language": "python",
   "name": "python3"
  },
  "language_info": {
   "codemirror_mode": {
    "name": "ipython",
    "version": 3
   },
   "file_extension": ".py",
   "mimetype": "text/x-python",
   "name": "python",
   "nbconvert_exporter": "python",
   "pygments_lexer": "ipython3",
   "version": "3.10.12"
  },
  "orig_nbformat": 4
 },
 "nbformat": 4,
 "nbformat_minor": 2
}
