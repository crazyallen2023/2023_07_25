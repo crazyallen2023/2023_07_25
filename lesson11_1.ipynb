{
 "cells": [
  {
   "cell_type": "code",
   "execution_count": 15,
   "metadata": {},
   "outputs": [
    {
     "name": "stdout",
     "output_type": "stream",
     "text": [
      "['游淑惠', '趙家豪', '張凱妮', '陳家年', '孫宜珊', '蔡孟泉', '景歡燦', '林昱芳', '黃佩玲', '黃善迪', '方筠紹', '鄭琇亞', '蔡世馨', '張俊傑', '林義皓', '高士凱', '胡芳瑜', '藍姿婷', '羅佩樺', '李慈啟']\n"
     ]
    },
    {
     "data": {
      "text/plain": [
       "[['游淑惠', 62, 96, 58, 70, 95],\n",
       " ['趙家豪', 76, 97, 50, 84, 88],\n",
       " ['張凱妮', 61, 68, 93, 87, 73],\n",
       " ['陳家年', 67, 63, 59, 74, 92],\n",
       " ['孫宜珊', 88, 53, 82, 55, 84],\n",
       " ['蔡孟泉', 89, 50, 80, 92, 97],\n",
       " ['景歡燦', 78, 91, 73, 66, 95],\n",
       " ['林昱芳', 66, 65, 73, 81, 54],\n",
       " ['黃佩玲', 68, 75, 80, 100, 73],\n",
       " ['黃善迪', 85, 78, 97, 55, 59],\n",
       " ['方筠紹', 55, 80, 55, 86, 94],\n",
       " ['鄭琇亞', 60, 85, 99, 82, 69],\n",
       " ['蔡世馨', 99, 97, 61, 82, 63],\n",
       " ['張俊傑', 72, 94, 72, 61, 55],\n",
       " ['林義皓', 93, 85, 55, 50, 96],\n",
       " ['高士凱', 99, 69, 98, 65, 56],\n",
       " ['胡芳瑜', 65, 57, 78, 58, 68],\n",
       " ['藍姿婷', 73, 75, 79, 83, 60],\n",
       " ['羅佩樺', 57, 50, 61, 55, 92],\n",
       " ['李慈啟', 83, 87, 88, 57, 96]]"
      ]
     },
     "execution_count": 15,
     "metadata": {},
     "output_type": "execute_result"
    }
   ],
   "source": [
    "import random\n",
    "\n",
    "def get_score()->list:\n",
    "    score = []\n",
    "    for i in range(5):\n",
    "        score.append(random.randint(50,100))\n",
    "    return score\n",
    "\n",
    "nums_int = int(input(\"輸入學生人數：\"))\n",
    "with open('names.txt', encoding='utf-8', newline='') as file:\n",
    "    names_str = file.read()\n",
    "    names_list = names_str.split(sep='\\n')\n",
    "    final_list = random.choices(names_list, k=nums_int)\n",
    "    print(final_list)\n",
    "student = []\n",
    "for i in range(nums_int):\n",
    "    score = get_score()\n",
    "    new_list = [final_list[i]] + score\n",
    "    student.append(new_list)\n",
    "    \n",
    "\n",
    "student"
   ]
  }
 ],
 "metadata": {
  "kernelspec": {
   "display_name": "Python 3",
   "language": "python",
   "name": "python3"
  },
  "language_info": {
   "codemirror_mode": {
    "name": "ipython",
    "version": 3
   },
   "file_extension": ".py",
   "mimetype": "text/x-python",
   "name": "python",
   "nbconvert_exporter": "python",
   "pygments_lexer": "ipython3",
   "version": "3.10.12"
  },
  "orig_nbformat": 4
 },
 "nbformat": 4,
 "nbformat_minor": 2
}
