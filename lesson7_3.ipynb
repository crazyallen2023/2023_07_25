{
 "cells": [
  {
   "cell_type": "code",
   "execution_count": 1,
   "metadata": {},
   "outputs": [
    {
     "name": "stdout",
     "output_type": "stream",
     "text": [
      "a b c d e f g h i j k l m n o p q r s t u v w x y z "
     ]
    }
   ],
   "source": [
    "#字串\n",
    "\n",
    "for word in \"abcdefghijklmnopqrstuvwxyz\":\n",
    "    print (word, end=\" \")"
   ]
  },
  {
   "cell_type": "code",
   "execution_count": 4,
   "metadata": {},
   "outputs": [
    {
     "data": {
      "text/plain": [
       "\"This is a allen's coffee\""
      ]
     },
     "execution_count": 4,
     "metadata": {},
     "output_type": "execute_result"
    }
   ],
   "source": [
    "word = 'This is a allen\\'s coffee'\n",
    "word"
   ]
  },
  {
   "cell_type": "code",
   "execution_count": 9,
   "metadata": {},
   "outputs": [
    {
     "name": "stdout",
     "output_type": "stream",
     "text": [
      "Hello!\n",
      "How are you?\n",
      "I'm doing great.\n"
     ]
    }
   ],
   "source": [
    "print(\"Hello!\\nHow are you?\\nI\\'m doing great.\")"
   ]
  },
  {
   "cell_type": "code",
   "execution_count": 10,
   "metadata": {},
   "outputs": [
    {
     "name": "stdout",
     "output_type": "stream",
     "text": [
      "Hello!\\nHow are you?\\nI\\'m doing great.\n"
     ]
    }
   ],
   "source": [
    "print(r\"Hello!\\nHow are you?\\nI\\'m doing great.\") #r-> raw 原生字"
   ]
  },
  {
   "cell_type": "code",
   "execution_count": 20,
   "metadata": {},
   "outputs": [
    {
     "name": "stdout",
     "output_type": "stream",
     "text": [
      "Dear Alice,Eve's cat hasbeen arrested for catnapping,cat burglary, and extortion.Sincerely,Bob\n"
     ]
    }
   ],
   "source": [
    "#單行文字用\"\\\"連結\n",
    "sentance = \"Dear Alice,Eve's cat has\\\n",
    "been arrested for catnapping,\\\n",
    "cat burglary, and extortion.\\\n",
    "Sincerely,Bob\"\n",
    "print(sentance)"
   ]
  },
  {
   "cell_type": "code",
   "execution_count": 14,
   "metadata": {},
   "outputs": [
    {
     "name": "stdout",
     "output_type": "stream",
     "text": [
      "\n",
      "      Hello!\n",
      "      How are you?\n",
      "      I'm doing great.\n",
      "      \n"
     ]
    }
   ],
   "source": [
    "#多行文字\n",
    "print(\"\"\"\n",
    "      Hello!\n",
    "      How are you?\n",
    "      I'm doing great.\n",
    "      \"\"\")"
   ]
  },
  {
   "cell_type": "code",
   "execution_count": 30,
   "metadata": {},
   "outputs": [
    {
     "data": {
      "text/plain": [
       "\"Hello!\\nHow are you?\\nI'm doing great.\""
      ]
     },
     "metadata": {},
     "output_type": "display_data"
    },
    {
     "name": "stdout",
     "output_type": "stream",
     "text": [
      "Hello!\n",
      "How are you?\n",
      "I'm doing great.\n"
     ]
    }
   ],
   "source": [
    "sentance2 = \"Hello!\\nHow are you?\\nI\\'m doing great.\"\n",
    "display(sentance2)\n",
    "print(sentance2)"
   ]
  },
  {
   "cell_type": "code",
   "execution_count": 28,
   "metadata": {},
   "outputs": [
    {
     "name": "stdout",
     "output_type": "stream",
     "text": [
      "Help on function add in module __main__:\n",
      "\n",
      "add(x1: int, y: int) -> int\n",
      "    2個參數\n",
      "    把它加起來\n",
      "\n"
     ]
    }
   ],
   "source": [
    "#多行文字當作FUNCTION說明\n",
    "def add(x1:int,y:int) ->int:\n",
    "    '''\n",
    "    2個參數\n",
    "    把它加起來\n",
    "    '''\n",
    "    return x1 + y\n",
    "\n",
    "help(add)\n",
    "\n"
   ]
  },
  {
   "cell_type": "code",
   "execution_count": 33,
   "metadata": {},
   "outputs": [
    {
     "name": "stdout",
     "output_type": "stream",
     "text": [
      "26\n",
      "a\n",
      "z\n",
      "z\n"
     ]
    }
   ],
   "source": [
    "word2 = \"abcdefghijklmnopqrstuvwxyz\"\n",
    "print(len(word2))#字串長度\n",
    "print(word2[0]) #字串INDEX\n",
    "print(word2[25])\n",
    "print(word2[len(word2)-1])"
   ]
  },
  {
   "cell_type": "code",
   "execution_count": 40,
   "metadata": {},
   "outputs": [
    {
     "name": "stdout",
     "output_type": "stream",
     "text": [
      "H\n",
      "d\n",
      "Hello\n",
      "Hello\n",
      "Worl\n",
      "World\n",
      "1\n",
      "9\n",
      "12345\n",
      "12345\n",
      "5678\n",
      "56789\n",
      "編\n",
      "n\n",
      "編號1-A\n",
      "編號1\n",
      "Alle\n",
      "Allen\n"
     ]
    }
   ],
   "source": [
    "#字串切割\n",
    "greet = \"Hello World\"\n",
    "num = \"123456789\"\n",
    "id = \"編號1-Allen\"\n",
    "print(greet[0])\n",
    "print(greet[-1])\n",
    "print(greet[0:5])\n",
    "print(greet[:5]) #前5個\n",
    "print(greet[-5:-1])\n",
    "print(greet[-5:])#後5個\n",
    "\n",
    "print(num[0])\n",
    "print(num[-1])\n",
    "print(num[0:5])\n",
    "print(num[:5]) #前5個\n",
    "print(num[-5:-1])\n",
    "print(num[-5:])#後5個\n",
    "\n",
    "print(id[0])\n",
    "print(id[-1])\n",
    "print(id[0:5])\n",
    "print(id[:3]) #前3個\n",
    "print(id[-5:-1])\n",
    "print(id[-5:])#後5個"
   ]
  },
  {
   "cell_type": "code",
   "execution_count": 2,
   "metadata": {},
   "outputs": [
    {
     "name": "stdout",
     "output_type": "stream",
     "text": [
      "Hello!\n",
      "World!\n"
     ]
    }
   ],
   "source": [
    "greet = \"Hello! World!\"\n",
    "print(greet[:6])\n",
    "print(greet[-6:])"
   ]
  }
 ],
 "metadata": {
  "kernelspec": {
   "display_name": "Python 3",
   "language": "python",
   "name": "python3"
  },
  "language_info": {
   "codemirror_mode": {
    "name": "ipython",
    "version": 3
   },
   "file_extension": ".py",
   "mimetype": "text/x-python",
   "name": "python",
   "nbconvert_exporter": "python",
   "pygments_lexer": "ipython3",
   "version": "3.10.12"
  },
  "orig_nbformat": 4
 },
 "nbformat": 4,
 "nbformat_minor": 2
}
