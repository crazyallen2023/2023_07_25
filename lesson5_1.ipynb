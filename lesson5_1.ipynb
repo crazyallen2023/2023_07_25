{
 "cells": [
  {
   "cell_type": "code",
   "execution_count": null,
   "metadata": {},
   "outputs": [],
   "source": [
    "chinese = int(input(\"chinese score:\"))\n",
    "math = int(input(\"math score:\"))\n",
    "\n",
    "#巢狀\n",
    "bonus = 0\n",
    "if chinese == 100:\n",
    "    if math == 100:\n",
    "        bonus = 1000\n",
    "    else:\n",
    "        bonus = 500\n",
    "else:\n",
    "    bonus = 0\n",
    "\n",
    "if math == 100:\n",
    "    bouns = 500\n",
    "else:\n",
    "    bonus = 0\n",
    "\n",
    "\n"
   ]
  }
 ],
 "metadata": {
  "language_info": {
   "name": "python"
  },
  "orig_nbformat": 4
 },
 "nbformat": 4,
 "nbformat_minor": 2
}
