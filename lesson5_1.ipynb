{
 "cells": [
  {
   "cell_type": "code",
   "execution_count": 11,
   "metadata": {},
   "outputs": [
    {
     "name": "stdout",
     "output_type": "stream",
     "text": [
      "money =  500\n"
     ]
    }
   ],
   "source": [
    "chinese = int(input(\"chinese score:\"))\n",
    "math = int(input(\"math score:\"))\n",
    "\n",
    "#巢狀\n",
    "bonus = 0\n",
    "if chinese == 100:\n",
    "    if math == 100:\n",
    "        bonus = 1000\n",
    "    else:\n",
    "        bonus = 500\n",
    "\n",
    "elif math == 100:\n",
    "    bonus = 500\n",
    "\n",
    "\n",
    "print(\"money = \",bonus)\n"
   ]
  },
  {
   "cell_type": "code",
   "execution_count": 16,
   "metadata": {},
   "outputs": [
    {
     "name": "stdout",
     "output_type": "stream",
     "text": [
      "money =  0\n"
     ]
    }
   ],
   "source": [
    "chinese = int(input(\"chinese score:\"))\n",
    "math = int(input(\"math score:\"))\n",
    "\n",
    "#邏輯運算子\n",
    "bonus = 0\n",
    "if chinese == 100 and math == 100:\n",
    "    bonus = 1000\n",
    "elif chinese ==100 or math == 100:\n",
    "    bonus = 500\n",
    "\n",
    "print(\"money = \",bonus)"
   ]
  },
  {
   "cell_type": "code",
   "execution_count": 18,
   "metadata": {},
   "outputs": [
    {
     "name": "stdout",
     "output_type": "stream",
     "text": [
      "血壓不正常\n"
     ]
    }
   ],
   "source": [
    "presure = int(input(\"請輸入血壓值\"))\n",
    "if presure >=80 and presure<=120:\n",
    "    print(\"血壓正常\")\n",
    "else:\n",
    "    print(\"血壓不正常\")"
   ]
  },
  {
   "cell_type": "code",
   "execution_count": null,
   "metadata": {},
   "outputs": [],
   "source": []
  }
 ],
 "metadata": {
  "kernelspec": {
   "display_name": "Python 3",
   "language": "python",
   "name": "python3"
  },
  "language_info": {
   "codemirror_mode": {
    "name": "ipython",
    "version": 3
   },
   "file_extension": ".py",
   "mimetype": "text/x-python",
   "name": "python",
   "nbconvert_exporter": "python",
   "pygments_lexer": "ipython3",
   "version": "3.10.12"
  },
  "orig_nbformat": 4
 },
 "nbformat": 4,
 "nbformat_minor": 2
}
