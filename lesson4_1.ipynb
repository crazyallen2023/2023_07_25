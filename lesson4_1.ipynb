{
 "cells": [
  {
   "cell_type": "code",
   "execution_count": 8,
   "metadata": {},
   "outputs": [
    {
     "name": "stdout",
     "output_type": "stream",
     "text": [
      "one of them is not 21\n"
     ]
    }
   ],
   "source": [
    "a = int(input('enter your age1:'))\n",
    "b = int(input('enter your age2:'))\n",
    "\n",
    "if a>18 and b > 18:\n",
    "    print('They are all adult.')\n",
    "else: \n",
    "    print('one of them is not 21')\n"
   ]
  },
  {
   "cell_type": "code",
   "execution_count": 1,
   "metadata": {},
   "outputs": [
    {
     "name": "stdout",
     "output_type": "stream",
     "text": [
      "final score is:23\n"
     ]
    }
   ],
   "source": [
    "score = int(input('enter your score:'))\n",
    "is_add = input('add 5%, y or n:')\n",
    "if score>=0 and score<=300:\n",
    "    if is_add ==\"y\":\n",
    "        score *= 1.05\n",
    "        if score > 300:\n",
    "            score = 300\n",
    "\n",
    "    print(f'final score is:{round(score)}')\n",
    "else:\n",
    "    print('enter again')\n",
    "\n"
   ]
  },
  {
   "cell_type": "code",
   "execution_count": 27,
   "metadata": {},
   "outputs": [
    {
     "name": "stdout",
     "output_type": "stream",
     "text": [
      "enter again\n"
     ]
    }
   ],
   "source": [
    "score =int(input('enter your score:'))\n",
    "\n",
    "if score>=0 and score<=100:\n",
    "    if score >=60:\n",
    "        print('PASS')\n",
    "    else:\n",
    "        print('Fail')\n",
    "else:\n",
    "    print('enter again')"
   ]
  },
  {
   "cell_type": "code",
   "execution_count": 8,
   "metadata": {},
   "outputs": [
    {
     "name": "stdout",
     "output_type": "stream",
     "text": [
      "enter again\n"
     ]
    }
   ],
   "source": [
    "try:\n",
    "    score = int(input('enter your score:'))\n",
    "    is_add = input('add 5%, y or n:')\n",
    "    if score>=0 and score<=300:\n",
    "        if is_add ==\"y\":\n",
    "            score *= 1.05\n",
    "            if score > 300:\n",
    "                score = 300\n",
    "\n",
    "        print(f'final score is:{round(score)}')\n",
    "    else:\n",
    "        print('enter again')\n",
    "except:\n",
    "    print('enter again')"
   ]
  }
 ],
 "metadata": {
  "kernelspec": {
   "display_name": "Python 3",
   "language": "python",
   "name": "python3"
  },
  "language_info": {
   "codemirror_mode": {
    "name": "ipython",
    "version": 3
   },
   "file_extension": ".py",
   "mimetype": "text/x-python",
   "name": "python",
   "nbconvert_exporter": "python",
   "pygments_lexer": "ipython3",
   "version": "3.10.12"
  },
  "orig_nbformat": 4
 },
 "nbformat": 4,
 "nbformat_minor": 2
}
