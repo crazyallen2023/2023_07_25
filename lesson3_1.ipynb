{
 "cells": [
  {
   "cell_type": "code",
   "execution_count": 20,
   "metadata": {},
   "outputs": [
    {
     "name": "stdout",
     "output_type": "stream",
     "text": [
      "面積＝556.88平方公分\n"
     ]
    }
   ],
   "source": [
    "upper = eval(input('請輸入上底：'))\n",
    "lower = eval(input('請輸入下底：'))\n",
    "height = eval(input('請輸入高：'))\n",
    "\n",
    "area = (upper+lower)*height*0.5\n",
    "\n",
    "print(f'面積＝{area:.2f}平方公分')\n"
   ]
  },
  {
   "cell_type": "code",
   "execution_count": 18,
   "metadata": {},
   "outputs": [
    {
     "name": "stdout",
     "output_type": "stream",
     "text": [
      "Good\n"
     ]
    }
   ],
   "source": [
    "score = eval(input('Enter your score = '))\n",
    "if score>=90:\n",
    "    show = 'Excellent'\n",
    "elif score >=80:\n",
    "    show='Good'\n",
    "else:\n",
    "    show ='OK'\n",
    "print(show)"
   ]
  },
  {
   "cell_type": "code",
   "execution_count": 19,
   "metadata": {},
   "outputs": [
    {
     "name": "stdout",
     "output_type": "stream",
     "text": [
      "我吃了6個頻果，我有9橘子，一共有15水果\n"
     ]
    }
   ],
   "source": [
    "apple = 6\n",
    "orange =9\n",
    "\n",
    "print(f'我吃了{apple}個頻果，我有{orange}橘子，一共有{apple+orange}水果')"
   ]
  }
 ],
 "metadata": {
  "kernelspec": {
   "display_name": "Python 3",
   "language": "python",
   "name": "python3"
  },
  "language_info": {
   "codemirror_mode": {
    "name": "ipython",
    "version": 3
   },
   "file_extension": ".py",
   "mimetype": "text/x-python",
   "name": "python",
   "nbconvert_exporter": "python",
   "pygments_lexer": "ipython3",
   "version": "3.10.12"
  },
  "orig_nbformat": 4
 },
 "nbformat": 4,
 "nbformat_minor": 2
}
