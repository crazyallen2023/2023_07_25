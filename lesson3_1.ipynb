{
 "cells": [
  {
   "cell_type": "code",
   "execution_count": 20,
   "metadata": {},
   "outputs": [
    {
     "name": "stdout",
     "output_type": "stream",
     "text": [
      "面積＝556.88平方公分\n"
     ]
    }
   ],
   "source": [
    "upper = eval(input('請輸入上底：'))\n",
    "lower = eval(input('請輸入下底：'))\n",
    "height = eval(input('請輸入高：'))\n",
    "\n",
    "area = (upper+lower)*height*0.5\n",
    "\n",
    "print(f'面積＝{area:.2f}平方公分')\n"
   ]
  },
  {
   "cell_type": "code",
   "execution_count": 18,
   "metadata": {},
   "outputs": [
    {
     "name": "stdout",
     "output_type": "stream",
     "text": [
      "Good\n"
     ]
    }
   ],
   "source": [
    "score = eval(input('Enter your score = '))\n",
    "if score>=90:\n",
    "    show = 'Excellent'\n",
    "elif score >=80:\n",
    "    show='Good'\n",
    "else:\n",
    "    show ='OK'\n",
    "print(show)"
   ]
  },
  {
   "cell_type": "code",
   "execution_count": 19,
   "metadata": {},
   "outputs": [
    {
     "name": "stdout",
     "output_type": "stream",
     "text": [
      "我吃了6個頻果，我有9橘子，一共有15水果\n"
     ]
    }
   ],
   "source": [
    "apple = 6\n",
    "orange =9\n",
    "\n",
    "print(f'我吃了{apple}個頻果，我有{orange}橘子，一共有{apple+orange}水果')"
   ]
  },
  {
   "cell_type": "code",
   "execution_count": 5,
   "metadata": {},
   "outputs": [
    {
     "name": "stdout",
     "output_type": "stream",
     "text": [
      "對邊：20,斜邊：40,角度：30.00\n"
     ]
    }
   ],
   "source": [
    "\"\"\"高中數學\"\"\"\n",
    "import math as m\n",
    "side1 = eval(input('請輸入對邊：'))\n",
    "side2 = eval(input('請輸入斜邊：'))\n",
    "radian = m.asin(side1/side2)\n",
    "degree = m.degrees(radian)\n",
    "\n",
    "print(f'對邊：{side1},斜邊：{side2},角度：{degree:.2f}')\n"
   ]
  },
  {
   "cell_type": "code",
   "execution_count": 2,
   "metadata": {},
   "outputs": [
    {
     "name": "stdout",
     "output_type": "stream",
     "text": [
      "correct\n"
     ]
    }
   ],
   "source": [
    "uid = str(input(\"Enter Userid:\"))\n",
    "upw = str(input(\"Enter Pawword\"))\n",
    "\n",
    "if uid=='abc' and upw=='123':\n",
    "    show = 'correct'\n",
    "else:\n",
    "    show = 'incorrect'\n",
    "print(show)\n"
   ]
  },
  {
   "cell_type": "code",
   "execution_count": 8,
   "metadata": {},
   "outputs": [
    {
     "data": {
      "text/plain": [
       "array([ 0,  1,  2,  3,  4,  5,  6,  7,  8,  9, 10, 11, 12, 13, 14, 15, 16,\n",
       "       17, 18, 19, 20, 21, 22, 23, 24, 25, 26, 27, 28, 29, 30, 31, 32, 33,\n",
       "       34, 35, 36, 37, 38, 39, 40, 41, 42, 43, 44, 45, 46, 47, 48, 49, 50,\n",
       "       51, 52, 53, 54, 55, 56, 57, 58, 59, 60, 61, 62, 63, 64, 65, 66, 67,\n",
       "       68, 69, 70, 71, 72, 73, 74, 75, 76, 77, 78, 79, 80, 81, 82, 83, 84,\n",
       "       85, 86, 87, 88, 89, 90, 91, 92, 93, 94, 95, 96, 97, 98, 99])"
      ]
     },
     "execution_count": 8,
     "metadata": {},
     "output_type": "execute_result"
    }
   ],
   "source": [
    "\"\"\"大學數學\"\"\"\n",
    "import numpy as n\n",
    "import sympy as s\n",
    "\n",
    "n.arange(100)\n"
   ]
  }
 ],
 "metadata": {
  "kernelspec": {
   "display_name": "Python 3",
   "language": "python",
   "name": "python3"
  },
  "language_info": {
   "codemirror_mode": {
    "name": "ipython",
    "version": 3
   },
   "file_extension": ".py",
   "mimetype": "text/x-python",
   "name": "python",
   "nbconvert_exporter": "python",
   "pygments_lexer": "ipython3",
   "version": "3.10.12"
  },
  "orig_nbformat": 4
 },
 "nbformat": 4,
 "nbformat_minor": 2
}
