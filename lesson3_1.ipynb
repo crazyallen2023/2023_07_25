{
 "cells": [
  {
   "cell_type": "code",
   "execution_count": 5,
   "metadata": {},
   "outputs": [
    {
     "name": "stdout",
     "output_type": "stream",
     "text": [
      "面積＝ 1181.86 平方公分\n"
     ]
    }
   ],
   "source": [
    "upper = eval(input('請輸入上底：'))\n",
    "lower = eval(input('請輸入下底：'))\n",
    "height = eval(input('請輸入高：'))\n",
    "\n",
    "area = (upper+lower)*height*0.5\n",
    "\n",
    "print('面積＝',round(area,2),'平方公分')\n"
   ]
  }
 ],
 "metadata": {
  "kernelspec": {
   "display_name": "Python 3",
   "language": "python",
   "name": "python3"
  },
  "language_info": {
   "codemirror_mode": {
    "name": "ipython",
    "version": 3
   },
   "file_extension": ".py",
   "mimetype": "text/x-python",
   "name": "python",
   "nbconvert_exporter": "python",
   "pygments_lexer": "ipython3",
   "version": "3.10.12"
  },
  "orig_nbformat": 4
 },
 "nbformat": 4,
 "nbformat_minor": 2
}
