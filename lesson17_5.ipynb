{
 "cells": [
  {
   "cell_type": "code",
   "execution_count": 2,
   "metadata": {},
   "outputs": [
    {
     "data": {
      "text/plain": [
       "0      74\n",
       "1      62\n",
       "2      83\n",
       "3      78\n",
       "4      71\n",
       "5      50\n",
       "6      94\n",
       "7      99\n",
       "8      69\n",
       "9      63\n",
       "10     84\n",
       "11     77\n",
       "12     96\n",
       "13     56\n",
       "14     84\n",
       "15     72\n",
       "16     59\n",
       "17     96\n",
       "18     65\n",
       "19     73\n",
       "20     95\n",
       "21     55\n",
       "22     55\n",
       "23     57\n",
       "24     87\n",
       "25     84\n",
       "26     71\n",
       "27     51\n",
       "28     70\n",
       "29     94\n",
       "30     61\n",
       "31     92\n",
       "32     66\n",
       "33     88\n",
       "34     87\n",
       "35     58\n",
       "36     54\n",
       "37    100\n",
       "38     92\n",
       "39     70\n",
       "40     94\n",
       "41     71\n",
       "42     73\n",
       "43     62\n",
       "44     95\n",
       "45     91\n",
       "46     52\n",
       "47     76\n",
       "48     53\n",
       "49     54\n",
       "Name: CH, dtype: int64"
      ]
     },
     "execution_count": 2,
     "metadata": {},
     "output_type": "execute_result"
    }
   ],
   "source": [
    "# serier's search\n",
    "import pandas as pd\n",
    "df = pd.read_csv('學生成績.csv')\n",
    "\n",
    "chinese_s = df[\"CH\"]\n",
    "chinese_s"
   ]
  },
  {
   "cell_type": "code",
   "execution_count": 3,
   "metadata": {},
   "outputs": [
    {
     "data": {
      "text/plain": [
       "0      74\n",
       "1      62\n",
       "2      83\n",
       "3      78\n",
       "4      71\n",
       "6      94\n",
       "7      99\n",
       "8      69\n",
       "9      63\n",
       "10     84\n",
       "11     77\n",
       "12     96\n",
       "14     84\n",
       "15     72\n",
       "17     96\n",
       "18     65\n",
       "19     73\n",
       "20     95\n",
       "24     87\n",
       "25     84\n",
       "26     71\n",
       "28     70\n",
       "29     94\n",
       "30     61\n",
       "31     92\n",
       "32     66\n",
       "33     88\n",
       "34     87\n",
       "37    100\n",
       "38     92\n",
       "39     70\n",
       "40     94\n",
       "41     71\n",
       "42     73\n",
       "43     62\n",
       "44     95\n",
       "45     91\n",
       "47     76\n",
       "Name: CH, dtype: int64"
      ]
     },
     "execution_count": 3,
     "metadata": {},
     "output_type": "execute_result"
    }
   ],
   "source": [
    "# CH pass\n",
    "chinese_s[chinese_s >=60]"
   ]
  },
  {
   "cell_type": "code",
   "execution_count": 4,
   "metadata": {},
   "outputs": [
    {
     "data": {
      "text/plain": [
       "17    53\n",
       "20    52\n",
       "28    52\n",
       "40    51\n",
       "46    54\n",
       "Name: MA, dtype: int64"
      ]
     },
     "execution_count": 4,
     "metadata": {},
     "output_type": "execute_result"
    }
   ],
   "source": [
    "# MA under 60\n",
    "math_s = df['MA']\n",
    "math_s[math_s<60]"
   ]
  }
 ],
 "metadata": {
  "kernelspec": {
   "display_name": "Python 3",
   "language": "python",
   "name": "python3"
  },
  "language_info": {
   "codemirror_mode": {
    "name": "ipython",
    "version": 3
   },
   "file_extension": ".py",
   "mimetype": "text/x-python",
   "name": "python",
   "nbconvert_exporter": "python",
   "pygments_lexer": "ipython3",
   "version": "3.10.12"
  },
  "orig_nbformat": 4
 },
 "nbformat": 4,
 "nbformat_minor": 2
}
