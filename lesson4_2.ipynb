{
 "cells": [
  {
   "cell_type": "code",
   "execution_count": 6,
   "metadata": {},
   "outputs": [
    {
     "name": "stdout",
     "output_type": "stream",
     "text": [
      "Fail\n"
     ]
    }
   ],
   "source": [
    "score = int(input('enter socre'))\n",
    "if score>90:\n",
    "    print('A')\n",
    "if score>=80 and score<90:\n",
    "    print('B')    \n",
    "if score>=70 and score<80:\n",
    "    print('C')\n",
    "if score>=60 and score<70:\n",
    "    print('D')\n",
    "if score<60:\n",
    "    print('Fail')         "
   ]
  },
  {
   "cell_type": "code",
   "execution_count": 8,
   "metadata": {},
   "outputs": [
    {
     "name": "stdout",
     "output_type": "stream",
     "text": [
      "Student's grade is Fail\n"
     ]
    }
   ],
   "source": [
    "score = int(input('enter socre'))\n",
    "if score>=90:\n",
    "    grade = \"A\"\n",
    "else:\n",
    "    if score>=80:\n",
    "        grade = \"B\"\n",
    "    else:\n",
    "        if score>=70:\n",
    "            grade = \"C\"\n",
    "        else: \n",
    "            if score>=60:\n",
    "                grade = \"D\"\n",
    "            else:\n",
    "                if score<60:\n",
    "                    grade = \"Fail\"\n",
    "print(f\"Student's grade is {grade}\")"
   ]
  },
  {
   "cell_type": "code",
   "execution_count": 11,
   "metadata": {},
   "outputs": [
    {
     "name": "stdout",
     "output_type": "stream",
     "text": [
      "Student's grade is C\n"
     ]
    }
   ],
   "source": [
    "score = int(input('enter socre'))\n",
    "if score>=90:\n",
    "    grade = \"A\"\n",
    "elif score>=80:\n",
    "    grade = \"B\"\n",
    "elif score>=70:\n",
    "    grade = \"C\"\n",
    "elif score>=60:\n",
    "    grade = \"D\"\n",
    "else:\n",
    "    grade = \"Fail\"\n",
    "print(f\"Student's grade is {grade}\")"
   ]
  }
 ],
 "metadata": {
  "kernelspec": {
   "display_name": "Python 3",
   "language": "python",
   "name": "python3"
  },
  "language_info": {
   "codemirror_mode": {
    "name": "ipython",
    "version": 3
   },
   "file_extension": ".py",
   "mimetype": "text/x-python",
   "name": "python",
   "nbconvert_exporter": "python",
   "pygments_lexer": "ipython3",
   "version": "3.10.12"
  },
  "orig_nbformat": 4
 },
 "nbformat": 4,
 "nbformat_minor": 2
}
