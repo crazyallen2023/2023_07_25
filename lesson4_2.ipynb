{
 "cells": [
  {
   "cell_type": "code",
   "execution_count": 6,
   "metadata": {},
   "outputs": [
    {
     "name": "stdout",
     "output_type": "stream",
     "text": [
      "Fail\n"
     ]
    }
   ],
   "source": [
    "score = int(input('enter socre'))\n",
    "if score>90:\n",
    "    print('A')\n",
    "if score>=80 and score<90:\n",
    "    print('B')    \n",
    "if score>=70 and score<80:\n",
    "    print('C')\n",
    "if score>=60 and score<70:\n",
    "    print('D')\n",
    "if score<60:\n",
    "    print('Fail')         "
   ]
  },
  {
   "cell_type": "code",
   "execution_count": 8,
   "metadata": {},
   "outputs": [
    {
     "name": "stdout",
     "output_type": "stream",
     "text": [
      "Student's grade is Fail\n"
     ]
    }
   ],
   "source": [
    "score = int(input('enter socre'))\n",
    "if score>=90:\n",
    "    grade = \"A\"\n",
    "else:\n",
    "    if score>=80:\n",
    "        grade = \"B\"\n",
    "    else:\n",
    "        if score>=70:\n",
    "            grade = \"C\"\n",
    "        else: \n",
    "            if score>=60:\n",
    "                grade = \"D\"\n",
    "            else:\n",
    "                if score<60:\n",
    "                    grade = \"Fail\"\n",
    "print(f\"Student's grade is {grade}\")"
   ]
  },
  {
   "cell_type": "code",
   "execution_count": 11,
   "metadata": {},
   "outputs": [
    {
     "name": "stdout",
     "output_type": "stream",
     "text": [
      "Student's grade is C\n"
     ]
    }
   ],
   "source": [
    "score = int(input('enter socre'))\n",
    "if score>=90:\n",
    "    grade = \"A\"\n",
    "elif score>=80:\n",
    "    grade = \"B\"\n",
    "elif score>=70:\n",
    "    grade = \"C\"\n",
    "elif score>=60:\n",
    "    grade = \"D\"\n",
    "else:\n",
    "    grade = \"Fail\"\n",
    "print(f\"Student's grade is {grade}\")"
   ]
  },
  {
   "cell_type": "code",
   "execution_count": 17,
   "metadata": {},
   "outputs": [
    {
     "name": "stdout",
     "output_type": "stream",
     "text": [
      "Your original payment is 400. Your discunted payment is 400\n"
     ]
    }
   ],
   "source": [
    "spend = int(input('Enter your spending:'))\n",
    "payment = 0\n",
    "if spend >= 100000:\n",
    "    payment =spend*0.8 \n",
    "elif spend >= 50000:\n",
    "    payment=spend*0.85\n",
    "elif spend>=30000:\n",
    "    payment=spend*0.9\n",
    "elif spend>=10000:\n",
    "    payment=spend*0.95\n",
    "else:\n",
    "    payment = spend\n",
    "\n",
    "print(f\"Your original payment is {spend}. Your discunted payment is {int(payment)}\")"
   ]
  },
  {
   "cell_type": "code",
   "execution_count": 19,
   "metadata": {},
   "outputs": [
    {
     "name": "stdout",
     "output_type": "stream",
     "text": [
      "Your original payment is 120000. Your discunted payment is 96000\n"
     ]
    }
   ],
   "source": [
    "spend = int(input('Enter your total spending:'))\n",
    "payment = 0\n",
    "if spend < 10000:\n",
    "    payment = spend\n",
    "elif spend < 30000:\n",
    "    payment=spend*0.95\n",
    "elif spend < 50000:\n",
    "    payment = spend*0.9\n",
    "elif spend < 100000:\n",
    "    payment =spend * 0.85\n",
    "else:\n",
    "    payment = spend * 0.8\n",
    "\n",
    "print(f\"Your original payment is {spend}. Your discunted payment is {int(payment)}\")"
   ]
  },
  {
   "cell_type": "code",
   "execution_count": 29,
   "metadata": {},
   "outputs": [
    {
     "name": "stdout",
     "output_type": "stream",
     "text": [
      "The movie you can watch is 『輔導級』\n"
     ]
    }
   ],
   "source": [
    "age = input('Enter your age:')\n",
    "\n",
    "rating = ''\n",
    "\n",
    "if age =='':\n",
    "    rating = \"普遍級\"\n",
    "elif int(age) >=18:\n",
    "    rating = \"限制級\"\n",
    "elif int(age) >=13:\n",
    "    rating = \"輔導級\"\n",
    "else:\n",
    "    rating =\"普遍級\"\n",
    "\n",
    "print(f\"The movie you can watch is 『{rating}』\")\n"
   ]
  },
  {
   "cell_type": "code",
   "execution_count": 32,
   "metadata": {},
   "outputs": [
    {
     "name": "stdout",
     "output_type": "stream",
     "text": [
      "add score\n"
     ]
    }
   ],
   "source": [
    "add = input(\"Add score, y or n\")\n",
    "if not (add == 'y'):\n",
    "    print(\"no add score\")\n",
    "else:\n",
    "    print(\"add score\")"
   ]
  }
 ],
 "metadata": {
  "kernelspec": {
   "display_name": "Python 3",
   "language": "python",
   "name": "python3"
  },
  "language_info": {
   "codemirror_mode": {
    "name": "ipython",
    "version": 3
   },
   "file_extension": ".py",
   "mimetype": "text/x-python",
   "name": "python",
   "nbconvert_exporter": "python",
   "pygments_lexer": "ipython3",
   "version": "3.10.12"
  },
  "orig_nbformat": 4
 },
 "nbformat": 4,
 "nbformat_minor": 2
}
