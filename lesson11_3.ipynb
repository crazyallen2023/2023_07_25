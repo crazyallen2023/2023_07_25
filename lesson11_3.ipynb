{
 "cells": [
  {
   "cell_type": "code",
   "execution_count": 25,
   "metadata": {},
   "outputs": [
    {
     "data": {
      "text/plain": [
       "[['許淑婷', 56, 56, 99, 58, 71],\n",
       " ['蔡士賢', 83, 79, 89, 62, 91],\n",
       " ['鄧亭聿', 87, 66, 63, 51, 62],\n",
       " ['蕭淑華', 65, 63, 80, 73, 78],\n",
       " ['聶心怡', 87, 85, 88, 86, 60],\n",
       " ['蔡嘉音', 70, 65, 95, 97, 100],\n",
       " ['錢欣潔', 55, 76, 99, 97, 61],\n",
       " ['蕭怡伶', 68, 77, 80, 61, 84],\n",
       " ['鄭奇翰', 55, 88, 58, 97, 73],\n",
       " ['簡佳樺', 54, 53, 61, 51, 58],\n",
       " ['陳建豪', 89, 89, 71, 54, 88],\n",
       " ['郭淑真', 60, 85, 67, 86, 50],\n",
       " ['余宗儒', 96, 59, 68, 84, 75],\n",
       " ['黃旻林', 88, 83, 79, 80, 85],\n",
       " ['高智超', 83, 87, 62, 61, 89],\n",
       " ['黃柏宇', 75, 95, 87, 62, 74],\n",
       " ['王志謙', 98, 77, 80, 85, 78],\n",
       " ['郭舜昇', 55, 76, 91, 92, 83],\n",
       " ['黃詩妃', 56, 86, 92, 88, 90],\n",
       " ['林冠蕙', 68, 67, 61, 95, 60]]"
      ]
     },
     "execution_count": 25,
     "metadata": {},
     "output_type": "execute_result"
    }
   ],
   "source": [
    "import random\n",
    "\n",
    "def get_score()->list:\n",
    "    score = []\n",
    "    for i in range(5):\n",
    "        score.append(random.randint(50,100))\n",
    "    return score\n",
    "\n",
    "\n",
    "def get_names(nums:int) -> list:\n",
    "    with open('names.txt',encoding='utf-8',newline='') as file:\n",
    "        names_str = file.read()\n",
    "        all_names_list = names_str.split(sep=\"\\n\")\n",
    "        names_list = random.choices(all_names_list,k=nums) #取出一定數量的姓名\n",
    "    return names_list\n",
    "\n",
    "nums_int = int(input(\"輸入學生人數：\"))\n",
    "name_list = get_names(nums_int)\n",
    "# print(type(name_list))\n",
    "student = []\n",
    "for i in range(nums_int):\n",
    "    score = get_score()\n",
    "    # print(type(score))\n",
    "    namescore_list = [name_list[i]] + score\n",
    "    student.append(namescore_list)\n",
    "\n",
    "student"
   ]
  },
  {
   "cell_type": "code",
   "execution_count": 27,
   "metadata": {},
   "outputs": [
    {
     "name": "stdout",
     "output_type": "stream",
     "text": [
      "存檔成功\n"
     ]
    }
   ],
   "source": [
    "import csv\n",
    "\n",
    "fileName = input(\"請輸入存檔名:(csv)\")\n",
    "with open(f'{fileName}.csv',mode='w',encoding='utf-8', newline='') as file:\n",
    "    csv_writer = csv.writer(file)\n",
    "    csv_writer.writerow(['姓名', '國文', '英文', '數學', '地理', '歷史'])\n",
    "    csv_writer.writerows(student)\n",
    "\n",
    "print(\"存檔成功\")"
   ]
  }
 ],
 "metadata": {
  "kernelspec": {
   "display_name": "Python 3",
   "language": "python",
   "name": "python3"
  },
  "language_info": {
   "codemirror_mode": {
    "name": "ipython",
    "version": 3
   },
   "file_extension": ".py",
   "mimetype": "text/x-python",
   "name": "python",
   "nbconvert_exporter": "python",
   "pygments_lexer": "ipython3",
   "version": "3.10.12"
  },
  "orig_nbformat": 4
 },
 "nbformat": 4,
 "nbformat_minor": 2
}
