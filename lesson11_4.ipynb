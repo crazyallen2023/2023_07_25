{
 "cells": [
  {
   "cell_type": "code",
   "execution_count": 9,
   "metadata": {},
   "outputs": [
    {
     "data": {
      "text/plain": [
       "[['許淑婷', '56', '56', '99', '58', '71'],\n",
       " ['蔡士賢', '83', '79', '89', '62', '91'],\n",
       " ['鄧亭聿', '87', '66', '63', '51', '62'],\n",
       " ['蕭淑華', '65', '63', '80', '73', '78'],\n",
       " ['聶心怡', '87', '85', '88', '86', '60'],\n",
       " ['蔡嘉音', '70', '65', '95', '97', '100'],\n",
       " ['錢欣潔', '55', '76', '99', '97', '61'],\n",
       " ['蕭怡伶', '68', '77', '80', '61', '84'],\n",
       " ['鄭奇翰', '55', '88', '58', '97', '73'],\n",
       " ['簡佳樺', '54', '53', '61', '51', '58'],\n",
       " ['陳建豪', '89', '89', '71', '54', '88'],\n",
       " ['郭淑真', '60', '85', '67', '86', '50'],\n",
       " ['余宗儒', '96', '59', '68', '84', '75'],\n",
       " ['黃旻林', '88', '83', '79', '80', '85'],\n",
       " ['高智超', '83', '87', '62', '61', '89'],\n",
       " ['黃柏宇', '75', '95', '87', '62', '74'],\n",
       " ['王志謙', '98', '77', '80', '85', '78'],\n",
       " ['郭舜昇', '55', '76', '91', '92', '83'],\n",
       " ['黃詩妃', '56', '86', '92', '88', '90'],\n",
       " ['林冠蕙', '68', '67', '61', '95', '60']]"
      ]
     },
     "metadata": {},
     "output_type": "display_data"
    }
   ],
   "source": [
    "#讀取csv檔成為2維的list\n",
    "import csv\n",
    "with open('a2.csv',encoding='utf-8',newline='') as file:\n",
    "    csv_reader = csv.reader(file)\n",
    "    next(csv_reader)\n",
    "    #print(type(csv_reader))\n",
    "    csv_list = list(csv_reader)\n",
    "display(csv_list)"
   ]
  },
  {
   "cell_type": "code",
   "execution_count": 10,
   "metadata": {},
   "outputs": [
    {
     "name": "stdout",
     "output_type": "stream",
     "text": [
      "['黃柏宇', '75', '95', '87', '62', '74']\n"
     ]
    }
   ],
   "source": [
    "for student in csv_list:\n",
    "    if student[0] == '黃柏宇':\n",
    "        print(student)\n",
    "        break"
   ]
  }
 ],
 "metadata": {
  "kernelspec": {
   "display_name": "Python 3",
   "language": "python",
   "name": "python3"
  },
  "language_info": {
   "codemirror_mode": {
    "name": "ipython",
    "version": 3
   },
   "file_extension": ".py",
   "mimetype": "text/x-python",
   "name": "python",
   "nbconvert_exporter": "python",
   "pygments_lexer": "ipython3",
   "version": "3.10.12"
  },
  "orig_nbformat": 4
 },
 "nbformat": 4,
 "nbformat_minor": 2
}
