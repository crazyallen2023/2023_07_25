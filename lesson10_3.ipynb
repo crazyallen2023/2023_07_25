{
 "cells": [
  {
   "cell_type": "code",
   "execution_count": 1,
   "metadata": {},
   "outputs": [
    {
     "data": {
      "text/plain": [
       "([79, 92, 68, 75, 65], [78, 95, 68, 72, 65], [72, 91, 69, 71, 62])"
      ]
     },
     "execution_count": 1,
     "metadata": {},
     "output_type": "execute_result"
    }
   ],
   "source": [
    "#2維list\n",
    "students = [[79, 92, 68, 75, 65],\n",
    "            [78, 95, 68, 72, 65],\n",
    "            [72, 91, 69, 71, 62]]\n",
    "students[0] , students[1], students[2]"
   ]
  },
  {
   "cell_type": "code",
   "execution_count": 2,
   "metadata": {},
   "outputs": [
    {
     "name": "stdout",
     "output_type": "stream",
     "text": [
      "[79, 92, 68, 75, 65]\n",
      "[78, 95, 68, 72, 65]\n",
      "[72, 91, 69, 71, 62]\n"
     ]
    }
   ],
   "source": [
    "for student in students:\n",
    "    print(student)"
   ]
  },
  {
   "cell_type": "code",
   "execution_count": 4,
   "metadata": {},
   "outputs": [
    {
     "data": {
      "text/plain": [
       "[[50, 95, 68, 96, 80],\n",
       " [99, 69, 67, 83, 83],\n",
       " [60, 69, 87, 69, 77],\n",
       " [88, 94, 71, 75, 71],\n",
       " [80, 80, 97, 81, 70],\n",
       " [78, 87, 97, 94, 65],\n",
       " [73, 62, 77, 83, 51],\n",
       " [54, 57, 61, 71, 85],\n",
       " [71, 52, 69, 58, 79],\n",
       " [77, 51, 80, 57, 97],\n",
       " [64, 64, 65, 99, 73],\n",
       " [51, 91, 58, 65, 96],\n",
       " [80, 86, 74, 70, 90],\n",
       " [55, 67, 97, 86, 65],\n",
       " [68, 89, 96, 81, 67],\n",
       " [82, 54, 59, 50, 57],\n",
       " [84, 69, 66, 84, 68],\n",
       " [89, 72, 89, 74, 73],\n",
       " [81, 77, 69, 60, 89],\n",
       " [75, 59, 80, 94, 75],\n",
       " [67, 63, 80, 77, 69],\n",
       " [92, 58, 81, 83, 72],\n",
       " [79, 74, 61, 91, 79],\n",
       " [95, 65, 60, 76, 66],\n",
       " [73, 56, 87, 68, 54],\n",
       " [75, 95, 100, 58, 56],\n",
       " [82, 75, 73, 50, 100],\n",
       " [72, 81, 85, 74, 75],\n",
       " [62, 65, 98, 61, 77],\n",
       " [89, 85, 50, 95, 65],\n",
       " [60, 80, 55, 96, 91],\n",
       " [94, 69, 73, 97, 51],\n",
       " [52, 82, 80, 95, 68],\n",
       " [91, 97, 88, 51, 51],\n",
       " [73, 92, 90, 80, 71],\n",
       " [65, 51, 79, 92, 99],\n",
       " [52, 58, 61, 70, 84],\n",
       " [85, 81, 50, 78, 64],\n",
       " [93, 62, 83, 83, 79],\n",
       " [61, 68, 50, 64, 76],\n",
       " [64, 59, 94, 98, 86],\n",
       " [58, 94, 98, 94, 66],\n",
       " [72, 57, 69, 70, 79],\n",
       " [65, 59, 67, 65, 78],\n",
       " [92, 98, 92, 54, 70],\n",
       " [70, 86, 66, 85, 61],\n",
       " [82, 52, 90, 71, 86],\n",
       " [73, 56, 80, 100, 80],\n",
       " [93, 52, 71, 77, 54],\n",
       " [88, 64, 86, 66, 53]]"
      ]
     },
     "execution_count": 4,
     "metadata": {},
     "output_type": "execute_result"
    }
   ],
   "source": [
    "import random\n",
    "\n",
    "def get_score()->list:\n",
    "    score = []\n",
    "    for i in range(5):\n",
    "        score.append(random.randint(50,100))\n",
    "    return score\n",
    "\n",
    "student = []\n",
    "for i in range(50):\n",
    "    score = get_score()\n",
    "    student.append(score)\n",
    "\n",
    "student"
   ]
  }
 ],
 "metadata": {
  "kernelspec": {
   "display_name": "Python 3",
   "language": "python",
   "name": "python3"
  },
  "language_info": {
   "codemirror_mode": {
    "name": "ipython",
    "version": 3
   },
   "file_extension": ".py",
   "mimetype": "text/x-python",
   "name": "python",
   "nbconvert_exporter": "python",
   "pygments_lexer": "ipython3",
   "version": "3.10.12"
  },
  "orig_nbformat": 4
 },
 "nbformat": 4,
 "nbformat_minor": 2
}
