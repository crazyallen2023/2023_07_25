{
 "cells": [
  {
   "cell_type": "code",
   "execution_count": null,
   "metadata": {},
   "outputs": [],
   "source": [
    "#建立list\n",
    "a = [1, 3, 5, 7, 9]\n",
    "a * 2\n",
    "\n",
    "b = [2, 4, 6, 8 ,10]\n",
    "a + b\n",
    "\n",
    "result = []\n",
    "for i in range(5):\n",
    "    result.append(a[i] + b[i])\n",
    "\n",
    "result"
   ]
  },
  {
   "cell_type": "code",
   "execution_count": 1,
   "metadata": {},
   "outputs": [
    {
     "data": {
      "text/plain": [
       "array([ 3,  7, 11, 15, 19])"
      ]
     },
     "execution_count": 1,
     "metadata": {},
     "output_type": "execute_result"
    }
   ],
   "source": [
    "import numpy as np\n",
    "\n",
    "#透過list建立ndArray\n",
    "\n",
    "a_array = np.array([1, 3, 5, 7, 9])\n",
    "a_array * 2\n",
    "\n",
    "b_array = np.array([2, 4, 6, 8 ,10])\n",
    "\n",
    "a_array + b_array"
   ]
  },
  {
   "cell_type": "code",
   "execution_count": 2,
   "metadata": {},
   "outputs": [
    {
     "data": {
      "text/plain": [
       "[75, 97, 80, 56, 89]"
      ]
     },
     "execution_count": 2,
     "metadata": {},
     "output_type": "execute_result"
    }
   ],
   "source": [
    "#使用python建立5個亂數元素的list\n",
    "import random\n",
    "\n",
    "#list comprehension\n",
    "[random.randint(50,100) for _ in range(5)]"
   ]
  },
  {
   "cell_type": "code",
   "execution_count": 3,
   "metadata": {},
   "outputs": [
    {
     "data": {
      "text/plain": [
       "array([99, 61, 60, 78, 51])"
      ]
     },
     "execution_count": 3,
     "metadata": {},
     "output_type": "execute_result"
    }
   ],
   "source": [
    "#使用numpy random 建立亂數\n",
    "import numpy as np\n",
    "np.random.randint(50,high=100,size=5)"
   ]
  },
  {
   "cell_type": "code",
   "execution_count": 4,
   "metadata": {},
   "outputs": [
    {
     "data": {
      "text/plain": [
       "array([[90, 58, 74, 58, 72],\n",
       "       [61, 53, 57, 76, 76],\n",
       "       [60, 81, 61, 76, 82],\n",
       "       [74, 86, 51, 65, 75],\n",
       "       [95, 56, 50, 83, 61],\n",
       "       [68, 58, 62, 97, 94],\n",
       "       [94, 92, 83, 85, 51],\n",
       "       [82, 98, 89, 51, 56],\n",
       "       [58, 54, 69, 57, 93],\n",
       "       [67, 77, 52, 91, 83],\n",
       "       [57, 62, 69, 75, 69],\n",
       "       [92, 99, 69, 57, 82],\n",
       "       [77, 77, 88, 53, 51],\n",
       "       [85, 50, 93, 59, 60],\n",
       "       [79, 62, 55, 96, 51],\n",
       "       [62, 91, 59, 75, 74],\n",
       "       [93, 53, 59, 68, 57],\n",
       "       [73, 98, 71, 59, 51],\n",
       "       [87, 98, 95, 90, 50],\n",
       "       [87, 58, 68, 99, 66],\n",
       "       [51, 88, 92, 89, 71],\n",
       "       [97, 94, 69, 69, 56],\n",
       "       [79, 53, 54, 56, 92],\n",
       "       [82, 72, 66, 81, 93],\n",
       "       [61, 69, 79, 95, 92],\n",
       "       [75, 66, 54, 99, 90],\n",
       "       [85, 82, 86, 54, 55],\n",
       "       [60, 93, 84, 64, 98],\n",
       "       [93, 54, 50, 78, 56],\n",
       "       [68, 57, 84, 63, 96],\n",
       "       [98, 61, 68, 89, 76],\n",
       "       [54, 78, 80, 91, 74],\n",
       "       [70, 77, 96, 93, 84],\n",
       "       [51, 72, 57, 63, 54],\n",
       "       [66, 64, 99, 68, 62],\n",
       "       [79, 68, 75, 54, 77],\n",
       "       [91, 95, 93, 69, 83],\n",
       "       [69, 89, 75, 64, 63],\n",
       "       [88, 86, 71, 56, 81],\n",
       "       [85, 81, 71, 71, 99],\n",
       "       [80, 86, 86, 99, 68],\n",
       "       [75, 71, 82, 50, 57],\n",
       "       [54, 85, 94, 57, 88],\n",
       "       [97, 66, 53, 60, 58],\n",
       "       [73, 93, 72, 61, 96],\n",
       "       [82, 73, 99, 50, 72],\n",
       "       [51, 67, 64, 51, 98],\n",
       "       [52, 86, 85, 64, 91],\n",
       "       [56, 85, 95, 62, 67],\n",
       "       [85, 78, 93, 71, 74]])"
      ]
     },
     "execution_count": 4,
     "metadata": {},
     "output_type": "execute_result"
    }
   ],
   "source": [
    "np.random.randint(50,high=100,size=(50, 5))"
   ]
  }
 ],
 "metadata": {
  "kernelspec": {
   "display_name": "Python 3",
   "language": "python",
   "name": "python3"
  },
  "language_info": {
   "codemirror_mode": {
    "name": "ipython",
    "version": 3
   },
   "file_extension": ".py",
   "mimetype": "text/x-python",
   "name": "python",
   "nbconvert_exporter": "python",
   "pygments_lexer": "ipython3",
   "version": "2.7.0"
  },
  "orig_nbformat": 4
 },
 "nbformat": 4,
 "nbformat_minor": 2
}
