{
 "cells": [
  {
   "cell_type": "code",
   "execution_count": 16,
   "metadata": {},
   "outputs": [
    {
     "name": "stdout",
     "output_type": "stream",
     "text": [
      "=========Guess Number Game==========\n",
      "\n",
      "Make it Smaller\n",
      "Make it Smaller\n",
      "Make it Bigger\n",
      "Make it Smaller\n",
      "Make it Smaller\n",
      "\n",
      "Bingo!!!! The number is 11\n",
      "You've guessed 6 times. Game Over.\n",
      "Next Game\n",
      "=========Guess Number Game==========\n",
      "\n",
      "Entered value not in range\n",
      "Entered value not in range\n",
      "Entered value not in range\n",
      "Make it Bigger\n",
      "Make it Bigger\n",
      "Make it Bigger\n",
      "Entered value not in range\n",
      "Make it Bigger\n",
      "Make it Bigger\n",
      "You've guess 5 times.\n",
      "Game Over!\n"
     ]
    }
   ],
   "source": [
    "import random\n",
    "\n",
    "def play_game():\n",
    "    min = 1\n",
    "    max = 100\n",
    "    num = 0\n",
    "    target = random.randint(min, max)\n",
    "\n",
    "    print(\"=========Guess Number Game==========\\n\")\n",
    "\n",
    "    while True:\n",
    "        guess = int(input(f\"Enter a guess number between {min}~{max}:\"))\n",
    "        num += 1\n",
    "        if num < 10:\n",
    "            if guess >= min and guess <= max:\n",
    "                if guess == target:\n",
    "                        print(f\"\\nBingo!!!! The number is {target}\")\n",
    "                        print(f\"You've guessed {num} times. Game Over.\")\n",
    "                        break\n",
    "                elif guess > target:\n",
    "                        print(\"Make it Smaller\")\n",
    "                        max = guess + 1\n",
    "                else:\n",
    "                        print(\"Make it Bigger\")\n",
    "                        min = guess - 1\n",
    "                    \n",
    "            else:\n",
    "                    print(\"Entered value not in range\")\n",
    "        else:\n",
    "            print(\"You've guess 10 times.\")\n",
    "            break\n",
    "\n",
    "while True:\n",
    "    play_game()\n",
    "    play_again = input(\"Continue the game? (y or n)\")\n",
    "    if play_again ==\"n\":\n",
    "        break\n",
    "    else:\n",
    "        print(\"Next Game\")\n",
    "        continue\n",
    "print(\"Game Over!\")"
   ]
  },
  {
   "cell_type": "code",
   "execution_count": 4,
   "metadata": {},
   "outputs": [
    {
     "name": "stdout",
     "output_type": "stream",
     "text": [
      "Next Game\n",
      "Next Game\n",
      "Next Game\n",
      "Next Game\n",
      "Next Game\n",
      "Game Over!\n"
     ]
    }
   ],
   "source": [
    "while True:\n",
    "    play_again = input(\"Continue the game? (y or n)\")\n",
    "    if play_again ==\"n\":\n",
    "        break\n",
    "    else:\n",
    "        print(\"Next Game\")\n",
    "print(\"Game Over!\")"
   ]
  }
 ],
 "metadata": {
  "language_info": {
   "name": "python"
  },
  "orig_nbformat": 4
 },
 "nbformat": 4,
 "nbformat_minor": 2
}
