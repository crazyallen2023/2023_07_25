{
 "cells": [
  {
   "cell_type": "code",
   "execution_count": 1,
   "metadata": {},
   "outputs": [
    {
     "name": "stdout",
     "output_type": "stream",
     "text": [
      "quack~~~~\n"
     ]
    }
   ],
   "source": [
    "def make_a_sound():\n",
    "    print(\"quack~~~~\")\n",
    "\n",
    "make_a_sound()"
   ]
  },
  {
   "cell_type": "code",
   "execution_count": 8,
   "metadata": {},
   "outputs": [
    {
     "name": "stdout",
     "output_type": "stream",
     "text": [
      "9 + 6 = 15\n",
      "9 * 6 = 54\n"
     ]
    }
   ],
   "source": [
    "def add(a,b):\n",
    "    print(f\"{a} + {b} = {a+b}\")\n",
    "\n",
    "def mul(a,b):\n",
    "    print(f\"{a} * {b} = {a*b}\")\n",
    "\n",
    "add(9,6)\n",
    "mul(9,6)"
   ]
  },
  {
   "cell_type": "code",
   "execution_count": 13,
   "metadata": {},
   "outputs": [
    {
     "name": "stdout",
     "output_type": "stream",
     "text": [
      "11\n"
     ]
    }
   ],
   "source": [
    "def add(a,b):\n",
    "    return a+b\n",
    "\n",
    "x = add(7,4)\n",
    "print(x)"
   ]
  },
  {
   "cell_type": "code",
   "execution_count": 20,
   "metadata": {},
   "outputs": [
    {
     "name": "stdout",
     "output_type": "stream",
     "text": [
      "78 78 78\n"
     ]
    }
   ],
   "source": [
    "a1 = add(a = 9, b = 69) #引數名稱呼叫 可不依順序\n",
    "a2 = add(9, 69) #引數呼叫\n",
    "a3 = add(9, b =69) # 混合時  只能前面引數。 如果前面是引數符號，後面是引數，就會出錯\n",
    "\n",
    "print(a1,a2,a3)"
   ]
  }
 ],
 "metadata": {
  "kernelspec": {
   "display_name": "Python 3",
   "language": "python",
   "name": "python3"
  },
  "language_info": {
   "codemirror_mode": {
    "name": "ipython",
    "version": 3
   },
   "file_extension": ".py",
   "mimetype": "text/x-python",
   "name": "python",
   "nbconvert_exporter": "python",
   "pygments_lexer": "ipython3",
   "version": "3.10.12"
  },
  "orig_nbformat": 4
 },
 "nbformat": 4,
 "nbformat_minor": 2
}
