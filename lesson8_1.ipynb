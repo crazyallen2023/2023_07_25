{
 "cells": [
  {
   "cell_type": "code",
   "execution_count": null,
   "metadata": {},
   "outputs": [],
   "source": [
    "greet = \"Hello! World!\"\n",
    "print(greet[:6])\n",
    "print(greet[-6:])"
   ]
  },
  {
   "cell_type": "code",
   "execution_count": 8,
   "metadata": {},
   "outputs": [
    {
     "name": "stdout",
     "output_type": "stream",
     "text": [
      "hello! world!\n",
      "Hello! world!\n",
      "Hello! world!\n"
     ]
    }
   ],
   "source": [
    "greet1 = \"hello! world!\"\n",
    "print(greet1)\n",
    "print(str.capitalize(greet1))\n",
    "greet1 = greet1.capitalize()\n",
    "print(greet1)"
   ]
  },
  {
   "cell_type": "code",
   "execution_count": 10,
   "metadata": {},
   "outputs": [
    {
     "data": {
      "text/plain": [
       "'Penny'"
      ]
     },
     "execution_count": 10,
     "metadata": {},
     "output_type": "execute_result"
    }
   ],
   "source": [
    "#str.replace()\n",
    "name = 'Henny'\n",
    "name = name.replace(\"H\",\"P\")\n",
    "name"
   ]
  },
  {
   "cell_type": "code",
   "execution_count": 9,
   "metadata": {},
   "outputs": [
    {
     "data": {
      "text/plain": [
       "'Penny'"
      ]
     },
     "execution_count": 9,
     "metadata": {},
     "output_type": "execute_result"
    }
   ],
   "source": [
    "name = 'Henny'\n",
    "name = \"P\" + name[1:]\n",
    "name"
   ]
  },
  {
   "cell_type": "code",
   "execution_count": 21,
   "metadata": {},
   "outputs": [
    {
     "name": "stdout",
     "output_type": "stream",
     "text": [
      "78\n",
      "-1\n"
     ]
    }
   ],
   "source": [
    "news = \"Judges are being forced into an unprecedented and perilous spot in the middle of an already tempestuous presidential campaign because of rising acrimony over the criminal trials of Donald Trump.\"\n",
    "\n",
    "print(news.find(\"of\")) # 有找到\n",
    "print(news.find(\"apple\")) #沒找到顯示\"-1\""
   ]
  },
  {
   "cell_type": "code",
   "execution_count": 30,
   "metadata": {},
   "outputs": [
    {
     "name": "stdout",
     "output_type": "stream",
     "text": [
      "False\n",
      "False\n",
      "True\n"
     ]
    },
    {
     "data": {
      "text/plain": [
       "['Apple', ' Banan', ' Peach', ' Orange', ' Kiwi']"
      ]
     },
     "execution_count": 30,
     "metadata": {},
     "output_type": "execute_result"
    }
   ],
   "source": [
    "str1 = \"-\"\n",
    "str1.join(\"abcde\")\n",
    "\n",
    "str2 = \"Apple, Banan, Peach, Orange, Kiwi\"\n",
    "print(str2.isalpha())\n",
    "print(str2.isalnum())\n",
    "print(str2.isascii())\n",
    "str2.split(sep=\",\")"
   ]
  },
  {
   "cell_type": "code",
   "execution_count": 27,
   "metadata": {},
   "outputs": [
    {
     "name": "stdout",
     "output_type": "stream",
     "text": [
      "Enter your age!\n",
      "Please enter again.\n"
     ]
    }
   ],
   "source": [
    "print(\"Enter your age.\")\n",
    "age = input(\"Enter your age:\")\n",
    "\n",
    "if not age.isdigit():\n",
    "    print(\"Please enter again.\")\n",
    "else:\n",
    "    print(f\"Your age is {age} years old.\")"
   ]
  },
  {
   "cell_type": "code",
   "execution_count": 35,
   "metadata": {},
   "outputs": [
    {
     "name": "stdout",
     "output_type": "stream",
     "text": [
      "               Hello\n",
      "***************Hello\n",
      "Hello               \n",
      "       Hello        \n",
      "*******Hello********\n"
     ]
    }
   ],
   "source": [
    "print(\"Hello\".rjust(20,))\n",
    "print(\"Hello\".rjust(20,\"*\"))\n",
    "print(\"Hello\".ljust(20))\n",
    "print(\"Hello\".center(20))\n",
    "print(\"Hello\".center(20,\"*\"))"
   ]
  },
  {
   "cell_type": "code",
   "execution_count": 43,
   "metadata": {},
   "outputs": [
    {
     "name": "stdout",
     "output_type": "stream",
     "text": [
      "--------Breakfast Manu--------\n",
      "Ham Sandwich------------------   35\n",
      "Bacon Sandwich----------------   40\n"
     ]
    }
   ],
   "source": [
    "print(\"Breakfast Manu\".center(30,\"-\"))\n",
    "print(\"Ham Sandwich\".ljust(30,\"-\") + \"35\".rjust(5))\n",
    "print(\"Bacon Sandwich\".ljust(30,\"-\") + \"40\".rjust(5))"
   ]
  },
  {
   "cell_type": "code",
   "execution_count": 44,
   "metadata": {},
   "outputs": [
    {
     "name": "stdout",
     "output_type": "stream",
     "text": [
      "Your phone # is fsf, Format incorrect\n"
     ]
    }
   ],
   "source": [
    "#Check Phone Number\n",
    "def isphonenum(text:str) ->bool:\n",
    "    return False\n",
    "\n",
    "phone_num = input(\"Please enter your phone number with format xxxx-xxx-xxx:\")\n",
    "if isphonenum(phone_num):\n",
    "    print(f\"Your phone # is {phone_num}\")\n",
    "else:\n",
    "    print(f\"Your phone # is {phone_num}, Format incorrect.\")"
   ]
  }
 ],
 "metadata": {
  "kernelspec": {
   "display_name": "Python 3",
   "language": "python",
   "name": "python3"
  },
  "language_info": {
   "codemirror_mode": {
    "name": "ipython",
    "version": 3
   },
   "file_extension": ".py",
   "mimetype": "text/x-python",
   "name": "python",
   "nbconvert_exporter": "python",
   "pygments_lexer": "ipython3",
   "version": "3.10.12"
  },
  "orig_nbformat": 4
 },
 "nbformat": 4,
 "nbformat_minor": 2
}
