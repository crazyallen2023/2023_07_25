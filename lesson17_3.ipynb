{
 "cells": [
  {
   "cell_type": "code",
   "execution_count": 6,
   "metadata": {},
   "outputs": [],
   "source": [
    "import pandas as pd\n",
    "df = pd.read_csv('學生成績.csv')\n",
    "#dataFrame的subscript\n",
    "name_s = df[\"Name\"]"
   ]
  },
  {
   "cell_type": "code",
   "execution_count": 7,
   "metadata": {},
   "outputs": [
    {
     "data": {
      "text/plain": [
       "0     周琬婷\n",
       "1     蔡明平\n",
       "2     洪阿惠\n",
       "3     彭茹靖\n",
       "4     蔡士賢\n",
       "5     黃翔杰\n",
       "6     李彥伸\n",
       "7     郭坤花\n",
       "8     翁鈺婷\n",
       "9     鄭奇翰\n",
       "10    蕭怡伶\n",
       "11    蒙淑惠\n",
       "12    陳逸華\n",
       "13    陳信念\n",
       "14    黃健發\n",
       "15    王怡珊\n",
       "16    溫重意\n",
       "17    張俊傑\n",
       "18    賴昌韻\n",
       "19    陳冠霞\n",
       "20    黃善迪\n",
       "21    周琬婷\n",
       "22    楊健麟\n",
       "23    王雅琴\n",
       "24    蔡嘉音\n",
       "25    簡國瑋\n",
       "26    吳俐芷\n",
       "27    張伊映\n",
       "28    詹忠光\n",
       "29    鍾俞禎\n",
       "30    羅幸娥\n",
       "31    劉萬季\n",
       "32    李政成\n",
       "33    賴又琦\n",
       "34    蔡世馨\n",
       "35    許芳如\n",
       "36    李慶亮\n",
       "37    潘英迪\n",
       "38    高智超\n",
       "39    陳向愛\n",
       "40    林志成\n",
       "41    朱彥志\n",
       "42    龐皓芳\n",
       "43    聶心怡\n",
       "44    林玉佩\n",
       "45    陳嘉淑\n",
       "46    吳孟穎\n",
       "47    朱惠儀\n",
       "48    郎慧萍\n",
       "49    王士銘\n",
       "Name: Name, dtype: object"
      ]
     },
     "metadata": {},
     "output_type": "display_data"
    },
    {
     "data": {
      "text/plain": [
       "'周琬婷'"
      ]
     },
     "metadata": {},
     "output_type": "display_data"
    },
    {
     "name": "stdout",
     "output_type": "stream",
     "text": [
      "===========\n"
     ]
    },
    {
     "data": {
      "text/plain": [
       "0    周琬婷\n",
       "1    蔡明平\n",
       "2    洪阿惠\n",
       "Name: Name, dtype: object"
      ]
     },
     "metadata": {},
     "output_type": "display_data"
    },
    {
     "name": "stdout",
     "output_type": "stream",
     "text": [
      "===========\n"
     ]
    },
    {
     "data": {
      "text/plain": [
       "47    朱惠儀\n",
       "48    郎慧萍\n",
       "49    王士銘\n",
       "Name: Name, dtype: object"
      ]
     },
     "metadata": {},
     "output_type": "display_data"
    },
    {
     "name": "stdout",
     "output_type": "stream",
     "text": [
      "===========\n"
     ]
    },
    {
     "data": {
      "text/plain": [
       "0    周琬婷\n",
       "5    黃翔杰\n",
       "8    翁鈺婷\n",
       "Name: Name, dtype: object"
      ]
     },
     "metadata": {},
     "output_type": "display_data"
    }
   ],
   "source": [
    "#Series的subscript\n",
    "display(name_s)\n",
    "display(name_s[0])\n",
    "print(\"===========\")\n",
    "display(name_s[:3])\n",
    "print(\"===========\")\n",
    "display(name_s[-3:])\n",
    "print(\"===========\")\n",
    "display(name_s[[0, 5, 8]])"
   ]
  }
 ],
 "metadata": {
  "kernelspec": {
   "display_name": "Python 3",
   "language": "python",
   "name": "python3"
  },
  "language_info": {
   "codemirror_mode": {
    "name": "ipython",
    "version": 3
   },
   "file_extension": ".py",
   "mimetype": "text/x-python",
   "name": "python",
   "nbconvert_exporter": "python",
   "pygments_lexer": "ipython3",
   "version": "3.10.12"
  },
  "orig_nbformat": 4
 },
 "nbformat": 4,
 "nbformat_minor": 2
}
