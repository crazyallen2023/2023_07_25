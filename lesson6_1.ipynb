{
 "cells": [
  {
   "cell_type": "code",
   "execution_count": 1,
   "metadata": {},
   "outputs": [
    {
     "name": "stdout",
     "output_type": "stream",
     "text": [
      "1\n",
      "2\n",
      "3\n",
      "4\n",
      "5\n",
      "Program Over\n"
     ]
    }
   ],
   "source": [
    "i = 1\n",
    "while i <= 5:\n",
    "    print(i)\n",
    "    i += 1\n",
    "print(\"Program Over\")"
   ]
  },
  {
   "cell_type": "code",
   "execution_count": 8,
   "metadata": {},
   "outputs": [
    {
     "name": "stdout",
     "output_type": "stream",
     "text": [
      "→第1個月存款為90000元\n",
      "※在第1個月，存款已達90000，夠買3機車了\n"
     ]
    }
   ],
   "source": [
    "scooter = 30000\n",
    "total = 0\n",
    "month = 0\n",
    "\n",
    "while total <= scooter:\n",
    "    month += 1\n",
    "    monthsaving = int(input(f\"輸入{month}月的存款\"))\n",
    "    print(f\"→第{month}個月存款為{monthsaving}元\")\n",
    "    total = total + monthsaving\n",
    " \n",
    "print(f'※在第{month}個月，存款已達{total}，夠買{total//scooter}台機車了')"
   ]
  },
  {
   "cell_type": "code",
   "execution_count": 14,
   "metadata": {},
   "outputs": [
    {
     "name": "stdout",
     "output_type": "stream",
     "text": [
      "1\n",
      "2\n",
      "3\n",
      "4\n",
      "5\n",
      "Program Over\n"
     ]
    }
   ],
   "source": [
    "#Use break\n",
    "i = 1\n",
    "while True:\n",
    "    print(i)\n",
    "    i += 1\n",
    "    if i > 5:\n",
    "        break\n",
    "print(\"Program Over\")"
   ]
  },
  {
   "cell_type": "code",
   "execution_count": 15,
   "metadata": {},
   "outputs": [
    {
     "name": "stdout",
     "output_type": "stream",
     "text": [
      "→第1個月存款為5600元\n",
      "→第2個月存款為4562元\n",
      "→第3個月存款為13254元\n",
      "→第4個月存款為3124元\n",
      "→第5個月存款為3214元\n",
      "→第6個月存款為1132元\n",
      "※在第6個月，存款已達30886，夠買1台機車了\n"
     ]
    }
   ],
   "source": [
    "#Use break\n",
    "scooter = 30000\n",
    "total = 0\n",
    "month = 0\n",
    "\n",
    "while True:\n",
    "    month += 1\n",
    "    monthsaving = int(input(f\"輸入{month}月的存款\"))\n",
    "    print(f\"→第{month}個月存款為{monthsaving}元\")\n",
    "    total = total + monthsaving\n",
    "    if total > scooter:\n",
    "        break\n",
    " \n",
    "print(f'※在第{month}個月，存款已達{total}，夠買{total//scooter}台機車了')"
   ]
  },
  {
   "cell_type": "code",
   "execution_count": 34,
   "metadata": {},
   "outputs": [
    {
     "name": "stdout",
     "output_type": "stream",
     "text": [
      "第1次輸入的數值是4\n",
      "現在總和是4\n",
      "第2次輸入的數值是6\n",
      "現在總和是10\n",
      "第3次輸入的數值是8\n",
      "現在總和是18\n",
      "第4次輸入的數值是10\n",
      "現在總和是28\n",
      "第5次輸入的數值是5\n",
      "第6次輸入的數值是5\n",
      "第7次輸入的數值是5\n",
      "第8次輸入的數值是5\n",
      "第9次輸入的數值是8\n",
      "現在總和是36\n",
      "請輸入正數\n"
     ]
    }
   ],
   "source": [
    "sum = 0\n",
    "num = 0\n",
    "\n",
    "while True:\n",
    "    user_num = int(input(f'Enter {num} number'))\n",
    "    if user_num < 0:\n",
    "        print(\"請輸入正數\")\n",
    "        break\n",
    "    num += 1\n",
    "    print(f\"第{num}次輸入的數值是{user_num}\")\n",
    "    if user_num % 2 == 1:\n",
    "        continue\n",
    "    sum = sum + user_num\n",
    "    print(f\"現在總和是{sum}\")"
   ]
  }
 ],
 "metadata": {
  "kernelspec": {
   "display_name": "Python 3",
   "language": "python",
   "name": "python3"
  },
  "language_info": {
   "codemirror_mode": {
    "name": "ipython",
    "version": 3
   },
   "file_extension": ".py",
   "mimetype": "text/x-python",
   "name": "python",
   "nbconvert_exporter": "python",
   "pygments_lexer": "ipython3",
   "version": "3.10.12"
  },
  "orig_nbformat": 4
 },
 "nbformat": 4,
 "nbformat_minor": 2
}
