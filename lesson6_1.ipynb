{
 "cells": [
  {
   "cell_type": "code",
   "execution_count": 1,
   "metadata": {},
   "outputs": [
    {
     "name": "stdout",
     "output_type": "stream",
     "text": [
      "1\n",
      "2\n",
      "3\n",
      "4\n",
      "5\n",
      "Program Over\n"
     ]
    }
   ],
   "source": [
    "i = 1\n",
    "while i <= 5:\n",
    "    print(i)\n",
    "    i += 1\n",
    "print(\"Program Over\")"
   ]
  },
  {
   "cell_type": "code",
   "execution_count": 8,
   "metadata": {},
   "outputs": [
    {
     "name": "stdout",
     "output_type": "stream",
     "text": [
      "→第1個月存款為90000元\n",
      "※在第1個月，存款已達90000，夠買3機車了\n"
     ]
    }
   ],
   "source": [
    "scooter = 30000\n",
    "total = 0\n",
    "month = 0\n",
    "\n",
    "while total <= scooter:\n",
    "    month += 1\n",
    "    monthsaving = int(input(f\"輸入{month}月的存款\"))\n",
    "    print(f\"→第{month}個月存款為{monthsaving}元\")\n",
    "    total = total + monthsaving\n",
    " \n",
    "print(f'※在第{month}個月，存款已達{total}，夠買{total//scooter}台機車了')"
   ]
  }
 ],
 "metadata": {
  "kernelspec": {
   "display_name": "Python 3",
   "language": "python",
   "name": "python3"
  },
  "language_info": {
   "codemirror_mode": {
    "name": "ipython",
    "version": 3
   },
   "file_extension": ".py",
   "mimetype": "text/x-python",
   "name": "python",
   "nbconvert_exporter": "python",
   "pygments_lexer": "ipython3",
   "version": "3.10.12"
  },
  "orig_nbformat": 4
 },
 "nbformat": 4,
 "nbformat_minor": 2
}
