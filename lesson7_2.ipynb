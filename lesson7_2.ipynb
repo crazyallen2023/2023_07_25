{
 "cells": [
  {
   "cell_type": "code",
   "execution_count": 1,
   "metadata": {},
   "outputs": [],
   "source": [
    "def score(chinese, english, math):\n",
    "    print(f\"國文：{chinese}, 英文：{english}, 數學：{math}\")"
   ]
  },
  {
   "cell_type": "code",
   "execution_count": 2,
   "metadata": {},
   "outputs": [
    {
     "name": "stdout",
     "output_type": "stream",
     "text": [
      "國文：78, 英文：56, 數學：99\n"
     ]
    }
   ],
   "source": [
    "score(78,56,99)"
   ]
  },
  {
   "cell_type": "code",
   "execution_count": 5,
   "metadata": {},
   "outputs": [
    {
     "name": "stdout",
     "output_type": "stream",
     "text": [
      "國文：89, 英文：60, 數學：60\n",
      "國文：89, 英文：60, 數學：97\n",
      "國文：89, 英文：100, 數學：60\n"
     ]
    }
   ],
   "source": [
    "def score1(chinese, english=60, math=60):\n",
    "    print(f\"國文：{chinese}, 英文：{english}, 數學：{math}\")\n",
    "\n",
    "\n",
    "score1(89)\n",
    "score1(89,math = 97)\n",
    "score1(89, english=100)"
   ]
  },
  {
   "cell_type": "code",
   "execution_count": 11,
   "metadata": {},
   "outputs": [
    {
     "name": "stdout",
     "output_type": "stream",
     "text": [
      "5到10的質數是:\n",
      "5 7 "
     ]
    }
   ],
   "source": [
    "#找出質數\n",
    "def print_prime(first,end):\n",
    "    if first < 2:\n",
    "        first = 2\n",
    "    print(f\"{first}到{end}的質數是:\")\n",
    "    for num in range(first,end+1):\n",
    "        is_prime = True\n",
    "        for i in range(2,num):\n",
    "            if num%i ==0:\n",
    "                is_prime=False\n",
    "        if is_prime:\n",
    "            print(f\"{num}\",end=\" \")\n",
    "\n",
    "f = int(input(\"輸入首數:\"))\n",
    "e = int(input(\"輸入尾數:\"))\n",
    "print_prime(f,e)"
   ]
  },
  {
   "cell_type": "code",
   "execution_count": 13,
   "metadata": {},
   "outputs": [
    {
     "name": "stdout",
     "output_type": "stream",
     "text": [
      "11\n"
     ]
    }
   ],
   "source": [
    "def add(a,b):\n",
    "    return a+b\n",
    "\n",
    "x = add(7,4)\n",
    "print(x)"
   ]
  },
  {
   "cell_type": "code",
   "execution_count": 23,
   "metadata": {},
   "outputs": [
    {
     "name": "stdout",
     "output_type": "stream",
     "text": [
      "7.5900\n"
     ]
    }
   ],
   "source": [
    "def add(a:int|float,b:int|float) ->int|float: #這種寫法可以提醒使用者\"型別\"\n",
    "    return a+b\n",
    "\n",
    "total = add(5.996,1.594)\n",
    "\n",
    "print(f\"{total:.4f}\")"
   ]
  },
  {
   "cell_type": "code",
   "execution_count": 26,
   "metadata": {},
   "outputs": [
    {
     "name": "stdout",
     "output_type": "stream",
     "text": [
      "1 2 3 ttt yyy 23.5 55.9\n",
      "1-2-3-ttt-yyy-23.5-55.9\n",
      "1-2-3-ttt-yyy-23.5-55.9。\n"
     ]
    }
   ],
   "source": [
    "print(1,2,3,\"ttt\",\"yyy\",23.5,55.9)\n",
    "print(1,2,3,\"ttt\",\"yyy\",23.5,55.9, sep=\"-\")\n",
    "print(1,2,3,\"ttt\",\"yyy\",23.5,55.9, end=\"。\\n\",sep=\"-\")\n"
   ]
  }
 ],
 "metadata": {
  "kernelspec": {
   "display_name": "Python 3",
   "language": "python",
   "name": "python3"
  },
  "language_info": {
   "codemirror_mode": {
    "name": "ipython",
    "version": 3
   },
   "file_extension": ".py",
   "mimetype": "text/x-python",
   "name": "python",
   "nbconvert_exporter": "python",
   "pygments_lexer": "ipython3",
   "version": "3.10.12"
  },
  "orig_nbformat": 4
 },
 "nbformat": 4,
 "nbformat_minor": 2
}
